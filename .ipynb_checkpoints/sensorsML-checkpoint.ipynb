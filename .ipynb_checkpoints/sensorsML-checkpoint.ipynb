{
 "cells": [
  {
   "cell_type": "markdown",
   "metadata": {},
   "source": [
    "# Machine Learning \n",
    "### Objective: Use past data to predict future data. \n",
    "\n",
    "#### Note:\n",
    "- What are methods\n"
   ]
  },
  {
   "cell_type": "markdown",
   "metadata": {},
   "source": [
    "#### Machine Learning general template:\n",
    "1. Import libraries (essentially code that other people have already written - you can just import and use the methods to make your life easier)\n",
    "2. Load the dataset - as a pandas dataframe \n",
    "3. Analyse the data (know which are your features and which is the target variable - thing you are predicting) & Clean the data (may need to delete irrelevant stuff, missing values, remove outliers, etc.)\n",
    "4. Shuffle the data to add to the randomness and remove possible patterns in the data\n",
    "5. Split all the data into features and target class & Convert the loaded pandas dataframe into numpy arrays that can be used by scikit_learn (just something you gotta do)\n",
    "6. Save your new clean numpy array data to use \n",
    "7. Normalise the data \n",
    "8. Within your features, split it into training_inputs, testing_inputs (usually 80/20 or 70/30 - depends on your data) & at the same time within your target, split into the training_classes, testing_classes \n",
    "9. There are many different classifiers that will do the bulk of the predicting for you - you just need to load your data into the classifier to train it - then get the accuracy score of each classifier that you test\n",
    "10. When you have tested multiple, get the one with the highest score to make predictions with your testing data - using the testing data sets instead of the training data sets ensures that your classifier is seeing new data - makes sure it's accurate\n",
    "11. Load in the testing data to get prediction and accuracy score \n",
    "12. With your classifier, you can create your own model to use when you want to predict new data \n",
    "13. Input own feature data and normalize it\n",
    "14. Run the prediction and print the result \n"
   ]
  },
  {
   "cell_type": "markdown",
   "metadata": {},
   "source": [
    "#### What can you do with the trained model?\n",
    "- Flask web application \n"
   ]
  },
  {
   "cell_type": "markdown",
   "metadata": {},
   "source": [
    "## 1. Import libraries"
   ]
  },
  {
   "cell_type": "code",
   "execution_count": 26,
   "metadata": {},
   "outputs": [],
   "source": [
    "import numpy as np\n",
    "import pandas as pd\n",
    "import seaborn as sns\n",
    "from pandas.plotting import scatter_matrix\n",
    "import matplotlib.pyplot as plt\n",
    "from sklearn import model_selection\n",
    "from sklearn.metrics import classification_report\n",
    "from sklearn.metrics import confusion_matrix\n",
    "from sklearn.metrics import accuracy_score\n",
    "\n",
    "from sklearn.linear_model import LogisticRegression\n",
    "from sklearn.neighbors import KNeighborsClassifier\n",
    "from sklearn.discriminant_analysis import LinearDiscriminantAnalysis\n",
    "from sklearn.naive_bayes import GaussianNB\n",
    "from sklearn.svm import SVC\n",
    "from sklearn import svm\n",
    "from sklearn import linear_model\n",
    "\n",
    "import joblib\n",
    "from sklearn.model_selection import cross_val_score\n",
    "from sklearn import preprocessing\n",
    "from sklearn.model_selection import train_test_split\n",
    "from sklearn import utils\n",
    "\n",
    "import pickle"
   ]
  },
  {
   "cell_type": "markdown",
   "metadata": {},
   "source": [
    "## 2. Load the dataset"
   ]
  },
  {
   "cell_type": "code",
   "execution_count": 2,
   "metadata": {},
   "outputs": [
    {
     "data": {
      "text/html": [
       "<div>\n",
       "<style scoped>\n",
       "    .dataframe tbody tr th:only-of-type {\n",
       "        vertical-align: middle;\n",
       "    }\n",
       "\n",
       "    .dataframe tbody tr th {\n",
       "        vertical-align: top;\n",
       "    }\n",
       "\n",
       "    .dataframe thead th {\n",
       "        text-align: right;\n",
       "    }\n",
       "</style>\n",
       "<table border=\"1\" class=\"dataframe\">\n",
       "  <thead>\n",
       "    <tr style=\"text-align: right;\">\n",
       "      <th></th>\n",
       "      <th>timestamp</th>\n",
       "      <th>mac</th>\n",
       "      <th>boardtype</th>\n",
       "      <th>boardid</th>\n",
       "      <th>temp_max</th>\n",
       "      <th>temp_min</th>\n",
       "      <th>temp_avg</th>\n",
       "      <th>light_max</th>\n",
       "      <th>light_min</th>\n",
       "      <th>light_avg</th>\n",
       "      <th>humidity_min</th>\n",
       "      <th>humidity_max</th>\n",
       "      <th>humidity_avg</th>\n",
       "      <th>model</th>\n",
       "      <th>latitude</th>\n",
       "      <th>longitude</th>\n",
       "      <th>elevation</th>\n",
       "      <th>location</th>\n",
       "      <th>rowid</th>\n",
       "      <th>Position</th>\n",
       "    </tr>\n",
       "  </thead>\n",
       "  <tbody>\n",
       "    <tr>\n",
       "      <th>0</th>\n",
       "      <td>12/15/2014 01:40:00 AM</td>\n",
       "      <td>0013a20040b4b755</td>\n",
       "      <td>1</td>\n",
       "      <td>508</td>\n",
       "      <td>21.6</td>\n",
       "      <td>21.6</td>\n",
       "      <td>21.6</td>\n",
       "      <td>96.4</td>\n",
       "      <td>96.4</td>\n",
       "      <td>96.4</td>\n",
       "      <td>41.2</td>\n",
       "      <td>41.2</td>\n",
       "      <td>41.2</td>\n",
       "      <td>ENV</td>\n",
       "      <td>-37.813408</td>\n",
       "      <td>144.979492</td>\n",
       "      <td>30.10</td>\n",
       "      <td>Fitzroy Gardens</td>\n",
       "      <td>508-20141215014000</td>\n",
       "      <td>NaN</td>\n",
       "    </tr>\n",
       "    <tr>\n",
       "      <th>1</th>\n",
       "      <td>12/15/2014 01:40:00 AM</td>\n",
       "      <td>0013a20040b516ed</td>\n",
       "      <td>1</td>\n",
       "      <td>505</td>\n",
       "      <td>23.2</td>\n",
       "      <td>23.2</td>\n",
       "      <td>23.2</td>\n",
       "      <td>93.5</td>\n",
       "      <td>93.5</td>\n",
       "      <td>93.5</td>\n",
       "      <td>48.3</td>\n",
       "      <td>48.3</td>\n",
       "      <td>48.3</td>\n",
       "      <td>ENV</td>\n",
       "      <td>-37.813073</td>\n",
       "      <td>144.980406</td>\n",
       "      <td>29.91</td>\n",
       "      <td>Fitzroy Gardens</td>\n",
       "      <td>505-20141215014000</td>\n",
       "      <td>NaN</td>\n",
       "    </tr>\n",
       "    <tr>\n",
       "      <th>2</th>\n",
       "      <td>12/15/2014 01:45:00 AM</td>\n",
       "      <td>0013a20040b516f6</td>\n",
       "      <td>1</td>\n",
       "      <td>507</td>\n",
       "      <td>21.6</td>\n",
       "      <td>21.6</td>\n",
       "      <td>21.6</td>\n",
       "      <td>97.2</td>\n",
       "      <td>97.2</td>\n",
       "      <td>97.2</td>\n",
       "      <td>44.8</td>\n",
       "      <td>44.8</td>\n",
       "      <td>44.8</td>\n",
       "      <td>ENV</td>\n",
       "      <td>-37.814922</td>\n",
       "      <td>144.982258</td>\n",
       "      <td>38.79</td>\n",
       "      <td>Fitzroy Gardens</td>\n",
       "      <td>507-20141215014500</td>\n",
       "      <td>NaN</td>\n",
       "    </tr>\n",
       "    <tr>\n",
       "      <th>3</th>\n",
       "      <td>12/15/2014 01:45:00 AM</td>\n",
       "      <td>0013a20040b5b318</td>\n",
       "      <td>1</td>\n",
       "      <td>502</td>\n",
       "      <td>21.3</td>\n",
       "      <td>21.3</td>\n",
       "      <td>21.3</td>\n",
       "      <td>97.4</td>\n",
       "      <td>97.4</td>\n",
       "      <td>97.4</td>\n",
       "      <td>45.3</td>\n",
       "      <td>45.3</td>\n",
       "      <td>45.3</td>\n",
       "      <td>ENV</td>\n",
       "      <td>-37.814610</td>\n",
       "      <td>144.979018</td>\n",
       "      <td>22.57</td>\n",
       "      <td>Fitzroy Gardens</td>\n",
       "      <td>502-20141215014500</td>\n",
       "      <td>NaN</td>\n",
       "    </tr>\n",
       "    <tr>\n",
       "      <th>4</th>\n",
       "      <td>12/15/2014 01:45:00 AM</td>\n",
       "      <td>0013a20040b315ec</td>\n",
       "      <td>1</td>\n",
       "      <td>501</td>\n",
       "      <td>22.9</td>\n",
       "      <td>22.9</td>\n",
       "      <td>22.9</td>\n",
       "      <td>97.4</td>\n",
       "      <td>97.4</td>\n",
       "      <td>97.4</td>\n",
       "      <td>43.1</td>\n",
       "      <td>43.1</td>\n",
       "      <td>43.1</td>\n",
       "      <td>ENV</td>\n",
       "      <td>-37.814808</td>\n",
       "      <td>144.980999</td>\n",
       "      <td>29.96</td>\n",
       "      <td>Fitzroy Gardens</td>\n",
       "      <td>501-20141215014500</td>\n",
       "      <td>NaN</td>\n",
       "    </tr>\n",
       "  </tbody>\n",
       "</table>\n",
       "</div>"
      ],
      "text/plain": [
       "                timestamp               mac  boardtype  boardid  temp_max  \\\n",
       "0  12/15/2014 01:40:00 AM  0013a20040b4b755          1      508      21.6   \n",
       "1  12/15/2014 01:40:00 AM  0013a20040b516ed          1      505      23.2   \n",
       "2  12/15/2014 01:45:00 AM  0013a20040b516f6          1      507      21.6   \n",
       "3  12/15/2014 01:45:00 AM  0013a20040b5b318          1      502      21.3   \n",
       "4  12/15/2014 01:45:00 AM  0013a20040b315ec          1      501      22.9   \n",
       "\n",
       "   temp_min  temp_avg  light_max  light_min  light_avg  humidity_min  \\\n",
       "0      21.6      21.6       96.4       96.4       96.4          41.2   \n",
       "1      23.2      23.2       93.5       93.5       93.5          48.3   \n",
       "2      21.6      21.6       97.2       97.2       97.2          44.8   \n",
       "3      21.3      21.3       97.4       97.4       97.4          45.3   \n",
       "4      22.9      22.9       97.4       97.4       97.4          43.1   \n",
       "\n",
       "   humidity_max  humidity_avg model   latitude   longitude  elevation  \\\n",
       "0          41.2          41.2   ENV -37.813408  144.979492      30.10   \n",
       "1          48.3          48.3   ENV -37.813073  144.980406      29.91   \n",
       "2          44.8          44.8   ENV -37.814922  144.982258      38.79   \n",
       "3          45.3          45.3   ENV -37.814610  144.979018      22.57   \n",
       "4          43.1          43.1   ENV -37.814808  144.980999      29.96   \n",
       "\n",
       "          location               rowid  Position  \n",
       "0  Fitzroy Gardens  508-20141215014000       NaN  \n",
       "1  Fitzroy Gardens  505-20141215014000       NaN  \n",
       "2  Fitzroy Gardens  507-20141215014500       NaN  \n",
       "3  Fitzroy Gardens  502-20141215014500       NaN  \n",
       "4  Fitzroy Gardens  501-20141215014500       NaN  "
      ]
     },
     "execution_count": 2,
     "metadata": {},
     "output_type": "execute_result"
    }
   ],
   "source": [
    "sensor_data = pd.read_csv(\"sensor_readings.csv\")\n",
    "\n",
    "# Show the first 5 rows \n",
    "sensor_data.head()\n",
    "# Show the last 5 rows: sensor_data.tail()"
   ]
  },
  {
   "cell_type": "markdown",
   "metadata": {},
   "source": [
    "## 3. Analyse & clean the data\n",
    "- Delete unnecessary columns/features\n",
    "- Handle missing values "
   ]
  },
  {
   "cell_type": "code",
   "execution_count": 3,
   "metadata": {},
   "outputs": [],
   "source": [
    "# Delete the timestamp, mac, boardtype, boardid, temp_max, temp_min, light_max, light_min, humidity_min, humidity_max, model, location, rowid, position columns\n",
    "del sensor_data['timestamp']\n",
    "del sensor_data['mac']\n",
    "del sensor_data['boardtype']\n",
    "del sensor_data['boardid']\n",
    "del sensor_data['temp_max']\n",
    "del sensor_data['temp_min']\n",
    "del sensor_data['light_max']\n",
    "del sensor_data['light_min']\n",
    "del sensor_data['humidity_min']\n",
    "del sensor_data['humidity_max']\n",
    "del sensor_data['model']\n",
    "del sensor_data['location']\n",
    "del sensor_data['rowid']\n",
    "del sensor_data['Position']"
   ]
  },
  {
   "cell_type": "code",
   "execution_count": 4,
   "metadata": {},
   "outputs": [
    {
     "data": {
      "text/html": [
       "<div>\n",
       "<style scoped>\n",
       "    .dataframe tbody tr th:only-of-type {\n",
       "        vertical-align: middle;\n",
       "    }\n",
       "\n",
       "    .dataframe tbody tr th {\n",
       "        vertical-align: top;\n",
       "    }\n",
       "\n",
       "    .dataframe thead th {\n",
       "        text-align: right;\n",
       "    }\n",
       "</style>\n",
       "<table border=\"1\" class=\"dataframe\">\n",
       "  <thead>\n",
       "    <tr style=\"text-align: right;\">\n",
       "      <th></th>\n",
       "      <th>temp_avg</th>\n",
       "      <th>light_avg</th>\n",
       "      <th>humidity_avg</th>\n",
       "      <th>latitude</th>\n",
       "      <th>longitude</th>\n",
       "      <th>elevation</th>\n",
       "    </tr>\n",
       "  </thead>\n",
       "  <tbody>\n",
       "    <tr>\n",
       "      <th>11</th>\n",
       "      <td>23.5</td>\n",
       "      <td>94.8</td>\n",
       "      <td>44.5</td>\n",
       "      <td>-37.820354</td>\n",
       "      <td>144.940482</td>\n",
       "      <td>NaN</td>\n",
       "    </tr>\n",
       "    <tr>\n",
       "      <th>12</th>\n",
       "      <td>23.5</td>\n",
       "      <td>96.3</td>\n",
       "      <td>43.1</td>\n",
       "      <td>-37.819500</td>\n",
       "      <td>144.941889</td>\n",
       "      <td>NaN</td>\n",
       "    </tr>\n",
       "    <tr>\n",
       "      <th>13</th>\n",
       "      <td>24.2</td>\n",
       "      <td>97.6</td>\n",
       "      <td>43.4</td>\n",
       "      <td>-37.819712</td>\n",
       "      <td>144.941325</td>\n",
       "      <td>NaN</td>\n",
       "    </tr>\n",
       "    <tr>\n",
       "      <th>14</th>\n",
       "      <td>22.9</td>\n",
       "      <td>97.8</td>\n",
       "      <td>46.6</td>\n",
       "      <td>-37.819904</td>\n",
       "      <td>144.940485</td>\n",
       "      <td>NaN</td>\n",
       "    </tr>\n",
       "    <tr>\n",
       "      <th>15</th>\n",
       "      <td>24.5</td>\n",
       "      <td>98.2</td>\n",
       "      <td>44.5</td>\n",
       "      <td>-37.820354</td>\n",
       "      <td>144.940482</td>\n",
       "      <td>NaN</td>\n",
       "    </tr>\n",
       "    <tr>\n",
       "      <th>...</th>\n",
       "      <td>...</td>\n",
       "      <td>...</td>\n",
       "      <td>...</td>\n",
       "      <td>...</td>\n",
       "      <td>...</td>\n",
       "      <td>...</td>\n",
       "    </tr>\n",
       "    <tr>\n",
       "      <th>29528</th>\n",
       "      <td>25.2</td>\n",
       "      <td>97.0</td>\n",
       "      <td>51.0</td>\n",
       "      <td>-37.819904</td>\n",
       "      <td>144.940485</td>\n",
       "      <td>NaN</td>\n",
       "    </tr>\n",
       "    <tr>\n",
       "      <th>29576</th>\n",
       "      <td>25.2</td>\n",
       "      <td>97.6</td>\n",
       "      <td>50.2</td>\n",
       "      <td>-37.819904</td>\n",
       "      <td>144.940485</td>\n",
       "      <td>NaN</td>\n",
       "    </tr>\n",
       "    <tr>\n",
       "      <th>29602</th>\n",
       "      <td>26.8</td>\n",
       "      <td>97.4</td>\n",
       "      <td>44.8</td>\n",
       "      <td>-37.819904</td>\n",
       "      <td>144.940485</td>\n",
       "      <td>NaN</td>\n",
       "    </tr>\n",
       "    <tr>\n",
       "      <th>29606</th>\n",
       "      <td>25.5</td>\n",
       "      <td>97.4</td>\n",
       "      <td>45.5</td>\n",
       "      <td>-37.819904</td>\n",
       "      <td>144.940485</td>\n",
       "      <td>NaN</td>\n",
       "    </tr>\n",
       "    <tr>\n",
       "      <th>29642</th>\n",
       "      <td>25.8</td>\n",
       "      <td>97.2</td>\n",
       "      <td>43.9</td>\n",
       "      <td>-37.819904</td>\n",
       "      <td>144.940485</td>\n",
       "      <td>NaN</td>\n",
       "    </tr>\n",
       "  </tbody>\n",
       "</table>\n",
       "<p>21595 rows × 6 columns</p>\n",
       "</div>"
      ],
      "text/plain": [
       "       temp_avg  light_avg  humidity_avg   latitude   longitude  elevation\n",
       "11         23.5       94.8          44.5 -37.820354  144.940482        NaN\n",
       "12         23.5       96.3          43.1 -37.819500  144.941889        NaN\n",
       "13         24.2       97.6          43.4 -37.819712  144.941325        NaN\n",
       "14         22.9       97.8          46.6 -37.819904  144.940485        NaN\n",
       "15         24.5       98.2          44.5 -37.820354  144.940482        NaN\n",
       "...         ...        ...           ...        ...         ...        ...\n",
       "29528      25.2       97.0          51.0 -37.819904  144.940485        NaN\n",
       "29576      25.2       97.6          50.2 -37.819904  144.940485        NaN\n",
       "29602      26.8       97.4          44.8 -37.819904  144.940485        NaN\n",
       "29606      25.5       97.4          45.5 -37.819904  144.940485        NaN\n",
       "29642      25.8       97.2          43.9 -37.819904  144.940485        NaN\n",
       "\n",
       "[21595 rows x 6 columns]"
      ]
     },
     "execution_count": 4,
     "metadata": {},
     "output_type": "execute_result"
    }
   ],
   "source": [
    "# See the rows that have missing values\n",
    "sensor_data.loc[(sensor_data['temp_avg'].isnull()) |\n",
    "                (sensor_data['light_avg'].isnull()) |\n",
    "                (sensor_data['humidity_avg'].isnull()) |\n",
    "                (sensor_data['latitude'].isnull()) |\n",
    "                (sensor_data['longitude'].isnull()) |\n",
    "                (sensor_data['elevation'].isnull())]"
   ]
  },
  {
   "cell_type": "code",
   "execution_count": 5,
   "metadata": {},
   "outputs": [],
   "source": [
    "# Delete rows with missing values \n",
    "sensor_data.dropna(inplace=True)"
   ]
  },
  {
   "cell_type": "code",
   "execution_count": 6,
   "metadata": {},
   "outputs": [
    {
     "name": "stdout",
     "output_type": "stream",
     "text": [
      "(34975, 6)\n"
     ]
    }
   ],
   "source": [
    "print(sensor_data.shape)\n",
    "# BEFORE: 56570 rows, 20 columns\n",
    "# AFTER: 34975 rows, 6 columns"
   ]
  },
  {
   "cell_type": "code",
   "execution_count": 7,
   "metadata": {},
   "outputs": [
    {
     "data": {
      "text/html": [
       "<div>\n",
       "<style scoped>\n",
       "    .dataframe tbody tr th:only-of-type {\n",
       "        vertical-align: middle;\n",
       "    }\n",
       "\n",
       "    .dataframe tbody tr th {\n",
       "        vertical-align: top;\n",
       "    }\n",
       "\n",
       "    .dataframe thead th {\n",
       "        text-align: right;\n",
       "    }\n",
       "</style>\n",
       "<table border=\"1\" class=\"dataframe\">\n",
       "  <thead>\n",
       "    <tr style=\"text-align: right;\">\n",
       "      <th></th>\n",
       "      <th>temp_avg</th>\n",
       "      <th>light_avg</th>\n",
       "      <th>humidity_avg</th>\n",
       "      <th>latitude</th>\n",
       "      <th>longitude</th>\n",
       "      <th>elevation</th>\n",
       "    </tr>\n",
       "  </thead>\n",
       "  <tbody>\n",
       "    <tr>\n",
       "      <th>count</th>\n",
       "      <td>34975.00000</td>\n",
       "      <td>34975.000000</td>\n",
       "      <td>34975.000000</td>\n",
       "      <td>34975.000000</td>\n",
       "      <td>34975.000000</td>\n",
       "      <td>34975.000000</td>\n",
       "    </tr>\n",
       "    <tr>\n",
       "      <th>mean</th>\n",
       "      <td>17.38036</td>\n",
       "      <td>45.881312</td>\n",
       "      <td>49.552540</td>\n",
       "      <td>-37.817574</td>\n",
       "      <td>144.956889</td>\n",
       "      <td>12.973810</td>\n",
       "    </tr>\n",
       "    <tr>\n",
       "      <th>std</th>\n",
       "      <td>5.23133</td>\n",
       "      <td>43.870164</td>\n",
       "      <td>13.885194</td>\n",
       "      <td>0.002862</td>\n",
       "      <td>0.019497</td>\n",
       "      <td>14.777655</td>\n",
       "    </tr>\n",
       "    <tr>\n",
       "      <th>min</th>\n",
       "      <td>4.20000</td>\n",
       "      <td>0.000000</td>\n",
       "      <td>-24.900000</td>\n",
       "      <td>-37.820354</td>\n",
       "      <td>144.940482</td>\n",
       "      <td>0.030000</td>\n",
       "    </tr>\n",
       "    <tr>\n",
       "      <th>25%</th>\n",
       "      <td>13.50000</td>\n",
       "      <td>2.600000</td>\n",
       "      <td>41.700000</td>\n",
       "      <td>-37.819904</td>\n",
       "      <td>144.940485</td>\n",
       "      <td>0.030000</td>\n",
       "    </tr>\n",
       "    <tr>\n",
       "      <th>50%</th>\n",
       "      <td>16.80000</td>\n",
       "      <td>12.800000</td>\n",
       "      <td>51.000000</td>\n",
       "      <td>-37.819712</td>\n",
       "      <td>144.941325</td>\n",
       "      <td>2.740000</td>\n",
       "    </tr>\n",
       "    <tr>\n",
       "      <th>75%</th>\n",
       "      <td>20.60000</td>\n",
       "      <td>93.800000</td>\n",
       "      <td>58.900000</td>\n",
       "      <td>-37.814808</td>\n",
       "      <td>144.979492</td>\n",
       "      <td>29.910000</td>\n",
       "    </tr>\n",
       "    <tr>\n",
       "      <th>max</th>\n",
       "      <td>38.10000</td>\n",
       "      <td>98.500000</td>\n",
       "      <td>102.500000</td>\n",
       "      <td>-37.813073</td>\n",
       "      <td>144.982258</td>\n",
       "      <td>38.790000</td>\n",
       "    </tr>\n",
       "  </tbody>\n",
       "</table>\n",
       "</div>"
      ],
      "text/plain": [
       "          temp_avg     light_avg  humidity_avg      latitude     longitude  \\\n",
       "count  34975.00000  34975.000000  34975.000000  34975.000000  34975.000000   \n",
       "mean      17.38036     45.881312     49.552540    -37.817574    144.956889   \n",
       "std        5.23133     43.870164     13.885194      0.002862      0.019497   \n",
       "min        4.20000      0.000000    -24.900000    -37.820354    144.940482   \n",
       "25%       13.50000      2.600000     41.700000    -37.819904    144.940485   \n",
       "50%       16.80000     12.800000     51.000000    -37.819712    144.941325   \n",
       "75%       20.60000     93.800000     58.900000    -37.814808    144.979492   \n",
       "max       38.10000     98.500000    102.500000    -37.813073    144.982258   \n",
       "\n",
       "          elevation  \n",
       "count  34975.000000  \n",
       "mean      12.973810  \n",
       "std       14.777655  \n",
       "min        0.030000  \n",
       "25%        0.030000  \n",
       "50%        2.740000  \n",
       "75%       29.910000  \n",
       "max       38.790000  "
      ]
     },
     "execution_count": 7,
     "metadata": {},
     "output_type": "execute_result"
    }
   ],
   "source": [
    "# Statistical description\n",
    "sensor_data.describe()"
   ]
  },
  {
   "cell_type": "code",
   "execution_count": 8,
   "metadata": {},
   "outputs": [
    {
     "data": {
      "text/plain": [
       "<matplotlib.axes._subplots.AxesSubplot at 0x1290fd9d0>"
      ]
     },
     "execution_count": 8,
     "metadata": {},
     "output_type": "execute_result"
    },
    {
     "data": {
      "image/png": "[encoded data removed]",
      "text/plain": [
       "<Figure size 1440x2880 with 6 Axes>"
      ]
     },
     "metadata": {
      "needs_background": "light"
     },
     "output_type": "display_data"
    }
   ],
   "source": [
    "# Plot graphs (pretty ah, hahaha)\n",
    "fig, (ax1,ax2,ax3,ax4,ax5,ax6) = plt.subplots(6,1,figsize=(20,40))\n",
    "sns.countplot(x='temp_avg', data=sensor_data, ax=ax1)\n",
    "sns.countplot(x='light_avg', data=sensor_data, ax=ax2)\n",
    "sns.countplot(x='humidity_avg', data=sensor_data, ax=ax3)\n",
    "sns.countplot(x='latitude', data=sensor_data, ax=ax4)\n",
    "sns.countplot(x='longitude', data=sensor_data, ax=ax5)\n",
    "sns.countplot(x='elevation', data=sensor_data, ax=ax6)"
   ]
  },
  {
   "cell_type": "markdown",
   "metadata": {},
   "source": [
    "## 4. Shuffle the data"
   ]
  },
  {
   "cell_type": "code",
   "execution_count": 9,
   "metadata": {},
   "outputs": [],
   "source": [
    "# For demo purposes, so the classifiers can run faster, I'll just use first 100 rows \n",
    "demo_sensor_data = sensor_data.head(1000)"
   ]
  },
  {
   "cell_type": "code",
   "execution_count": 10,
   "metadata": {},
   "outputs": [],
   "source": [
    "# NumPy random seed is simply a function that sets the random seed of the NumPy random number generator. \n",
    "# It provides an essential input that enables NumPy to generate pseudo-random numbers for random processes.\n",
    "np.random.seed(7) \n",
    "sensor_data_shuffle = sensor_data.iloc[np.random.permutation(len(demo_sensor_data))]"
   ]
  },
  {
   "cell_type": "markdown",
   "metadata": {},
   "source": [
    "## 5. Split all the data into features and target class & Convert the loaded pandas dataframe into numpy arrays\n",
    "- Going to predict the temperature_avg based on the rest of the variables (features)"
   ]
  },
  {
   "cell_type": "code",
   "execution_count": 11,
   "metadata": {},
   "outputs": [
    {
     "data": {
      "text/plain": [
       "array([[ 94.       ,  33.6      , -37.8148084, 144.980999 ,  29.96     ],\n",
       "       [  1.2      ,  46.1      , -37.8148084, 144.980999 ,  29.96     ],\n",
       "       [  3.5      ,  41.8      , -37.813073 , 144.9804061,  29.91     ],\n",
       "       ...,\n",
       "       [ 93.5      ,  35.2      , -37.813073 , 144.9804061,  29.91     ],\n",
       "       [  3.4      ,  34.6      , -37.8146097, 144.9790177,  22.57     ],\n",
       "       [ 12.       ,  33.5      , -37.8149218, 144.9822582,  38.79     ]])"
      ]
     },
     "execution_count": 11,
     "metadata": {},
     "output_type": "execute_result"
    }
   ],
   "source": [
    "# Convert the Pandas dataframes into numpy arrays that can be used by scikit_learn\n",
    "all_data = sensor_data_shuffle[['temp_avg', 'light_avg', 'humidity_avg', 'latitude', 'longitude', 'elevation']].values\n",
    "\n",
    "# Create array of only the feature data \n",
    "features = sensor_data_shuffle[['light_avg', 'humidity_avg', 'latitude', 'longitude', 'elevation']].values\n",
    "\n",
    "# Separate array to contain temp_avg\n",
    "target = sensor_data_shuffle['temp_avg'].values\n",
    "\n",
    "# Also need array of the feature names - this will help later when exploring the data\n",
    "feature_names = ['light_avg', 'humidity_avg', 'latitude', 'longitude', 'elevation']\n",
    "\n",
    "# print the features array of feature data\n",
    "features"
   ]
  },
  {
   "cell_type": "markdown",
   "metadata": {},
   "source": [
    "## 6. Save your new clean numpy array data \n",
    "- Save the new mammographic masses data csv"
   ]
  },
  {
   "cell_type": "code",
   "execution_count": 12,
   "metadata": {},
   "outputs": [],
   "source": [
    "df = pd.DataFrame(all_data, columns = ['temp_avg', 'light_avg', 'humidity_avg', 'latitude', 'longitude', 'elevation'])\n",
    "df.to_csv('new_sensor_readings.csv')"
   ]
  },
  {
   "cell_type": "markdown",
   "metadata": {},
   "source": [
    "## 7. Normalize the data \n",
    "- Normalize the attribute data using preprocessing.StandardScaler() \n",
    "- Normalization means adjusting values measured on different scales to a common scale"
   ]
  },
  {
   "cell_type": "code",
   "execution_count": 13,
   "metadata": {},
   "outputs": [
    {
     "data": {
      "text/plain": [
       "array([[ 0.93267085, -0.26625643, -0.79640589,  0.42342001, -0.09462429],\n",
       "       [-1.20900734,  0.99066618, -0.79640589,  0.42342001, -0.09462429],\n",
       "       [-1.15592696,  0.5582848 ,  1.44512882, -0.09499755, -0.10424488],\n",
       "       ...,\n",
       "       [ 0.92113164, -0.10537034,  1.44512882, -0.09499755, -0.10424488],\n",
       "       [-1.1582348 , -0.16570262, -0.53975443, -1.30898126, -1.51654764],\n",
       "       [-0.95976031, -0.27631181, -0.94287935,  1.52443433,  1.6043721 ]])"
      ]
     },
     "execution_count": 13,
     "metadata": {},
     "output_type": "execute_result"
    }
   ],
   "source": [
    "scaler = preprocessing.StandardScaler()\n",
    "features_scaled = scaler.fit_transform(features)\n",
    "features_scaled"
   ]
  },
  {
   "cell_type": "markdown",
   "metadata": {},
   "source": [
    "## 8. Within your features, split it into training_inputs, testing_inputs, training_classes, testing_classes \n",
    "- X_train, X_validation, Y_train, Y_validation"
   ]
  },
  {
   "cell_type": "code",
   "execution_count": 14,
   "metadata": {},
   "outputs": [],
   "source": [
    "seed = 18\n",
    "(training_inputs,\n",
    " testing_inputs,\n",
    " training_target,\n",
    " testing_target) = train_test_split(features_scaled, \n",
    "                                     target, \n",
    "                                     test_size=0.20, \n",
    "                                     train_size=0.80, \n",
    "                                     random_state=seed)"
   ]
  },
  {
   "cell_type": "markdown",
   "metadata": {},
   "source": [
    "## 9. Classifiers\n",
    "- If the target you are trying to predict is a continuous data, you need to use 'best-fit-line' (regression) kind of classifiers\n",
    "- If the target is a YES/NO kind of thing, you can use others\n",
    "- In this case, it's the former, so must use regressor algorithms"
   ]
  },
  {
   "cell_type": "code",
   "execution_count": 15,
   "metadata": {},
   "outputs": [],
   "source": [
    "classifiers = [\n",
    "    svm.SVR(gamma='auto'),\n",
    "    linear_model.SGDRegressor(),\n",
    "    linear_model.BayesianRidge(),\n",
    "    linear_model.LassoLars(),\n",
    "    linear_model.ARDRegression(),\n",
    "    linear_model.PassiveAggressiveRegressor(),\n",
    "    linear_model.TheilSenRegressor(),\n",
    "    linear_model.LinearRegression()]"
   ]
  },
  {
   "cell_type": "code",
   "execution_count": 16,
   "metadata": {},
   "outputs": [
    {
     "name": "stdout",
     "output_type": "stream",
     "text": [
      "======================================================================\n",
      "SVR(C=1.0, cache_size=200, coef0=0.0, degree=3, epsilon=0.1, gamma='auto',\n",
      "    kernel='rbf', max_iter=-1, shrinking=True, tol=0.001, verbose=False)\n",
      "----- SCORE -----\n",
      "0.8498097106275683\n",
      "======================================================================\n",
      "======================================================================\n",
      "SGDRegressor(alpha=0.0001, average=False, early_stopping=False, epsilon=0.1,\n",
      "             eta0=0.01, fit_intercept=True, l1_ratio=0.15,\n",
      "             learning_rate='invscaling', loss='squared_loss', max_iter=1000,\n",
      "             n_iter_no_change=5, penalty='l2', power_t=0.25, random_state=None,\n",
      "             shuffle=True, tol=0.001, validation_fraction=0.1, verbose=0,\n",
      "             warm_start=False)\n",
      "----- SCORE -----\n",
      "0.8335151362510823\n",
      "======================================================================\n",
      "======================================================================\n",
      "BayesianRidge(alpha_1=1e-06, alpha_2=1e-06, compute_score=False, copy_X=True,\n",
      "              fit_intercept=True, lambda_1=1e-06, lambda_2=1e-06, n_iter=300,\n",
      "              normalize=False, tol=0.001, verbose=False)\n",
      "----- SCORE -----\n",
      "0.8339322641140889\n",
      "======================================================================\n",
      "======================================================================\n",
      "LassoLars(alpha=1.0, copy_X=True, eps=2.220446049250313e-16, fit_intercept=True,\n",
      "          fit_path=True, max_iter=500, normalize=True, positive=False,\n",
      "          precompute='auto', verbose=False)\n",
      "----- SCORE -----\n",
      "-0.010309109865026755\n",
      "======================================================================\n",
      "======================================================================\n",
      "ARDRegression(alpha_1=1e-06, alpha_2=1e-06, compute_score=False, copy_X=True,\n",
      "              fit_intercept=True, lambda_1=1e-06, lambda_2=1e-06, n_iter=300,\n",
      "              normalize=False, threshold_lambda=10000.0, tol=0.001,\n",
      "              verbose=False)\n",
      "----- SCORE -----\n",
      "0.8339150496266285\n",
      "======================================================================\n",
      "======================================================================\n",
      "PassiveAggressiveRegressor(C=1.0, average=False, early_stopping=False,\n",
      "                           epsilon=0.1, fit_intercept=True,\n",
      "                           loss='epsilon_insensitive', max_iter=1000,\n",
      "                           n_iter_no_change=5, random_state=None, shuffle=True,\n",
      "                           tol=0.001, validation_fraction=0.1, verbose=0,\n",
      "                           warm_start=False)\n",
      "----- SCORE -----\n",
      "0.6339343286254981\n",
      "======================================================================\n",
      "======================================================================\n",
      "TheilSenRegressor(copy_X=True, fit_intercept=True, max_iter=300,\n",
      "                  max_subpopulation=10000, n_jobs=None, n_subsamples=None,\n",
      "                  random_state=None, tol=0.001, verbose=False)\n",
      "----- SCORE -----\n",
      "0.793661620670085\n",
      "======================================================================\n",
      "======================================================================\n",
      "LinearRegression(copy_X=True, fit_intercept=True, n_jobs=None, normalize=False)\n",
      "----- SCORE -----\n",
      "0.8339325594820973\n",
      "======================================================================\n"
     ]
    }
   ],
   "source": [
    "# Loop through each classifier in the array above \n",
    "for classifier in classifiers:\n",
    "    print(\"======================================================================\")\n",
    "    print(classifier)\n",
    "    clf = classifier\n",
    "    cv_scores = cross_val_score(clf, features_scaled, target, cv=10)\n",
    "    print(\"----- SCORE -----\")\n",
    "    print(cv_scores.mean())\n",
    "    print(\"======================================================================\")"
   ]
  },
  {
   "cell_type": "markdown",
   "metadata": {},
   "source": [
    "## 10. Choose classifier with the highest score \n",
    "- Looks like svm.SVR is the best"
   ]
  },
  {
   "cell_type": "markdown",
   "metadata": {},
   "source": [
    "## 11. Do prediction with test data using the selected classifier from above\n",
    "- Make predictions with testing data"
   ]
  },
  {
   "cell_type": "code",
   "execution_count": 25,
   "metadata": {},
   "outputs": [
    {
     "name": "stdout",
     "output_type": "stream",
     "text": [
      "[18.37075531 12.64465102 21.59273751 15.12995621 11.86342249 13.11628704\n",
      " 17.95754004 17.87083347 20.95658988 21.10910807 22.26963382 22.20903205\n",
      " 21.8297655  23.08643264 10.68376437 11.06148488 21.49922808 12.45184509\n",
      " 13.63898439 17.05353749 11.81955046 17.19036371 11.07093144 21.50247983\n",
      " 19.08536887 13.81177294 21.75405903 12.10990557 19.55461908 17.11607898\n",
      " 16.36876344 14.86923956 20.87125702 11.86342249 12.85719956 18.47989257\n",
      " 13.5571753  23.61949942 10.80071293 12.60146412 13.00105671 14.83417839\n",
      " 11.56120931 25.265891   20.77398236 12.84736013 21.73503008 21.34681949\n",
      " 15.09905687 22.47808293 17.281      18.24746193 12.85507006 15.58982685\n",
      " 21.11482996 21.46711222 25.27578813 17.5439339  18.68664742 17.1911999\n",
      " 13.31992518 14.33427629 14.06476316 10.97755601 18.43982294 14.39842505\n",
      " 12.78127805 10.83858462 22.25163388 12.16276965 20.92996659 21.49922808\n",
      " 22.49632814 17.56568329 12.5071643  20.61253147 11.65293658 14.04125004\n",
      " 15.54913102 19.60579266 12.7091045  19.74394736 12.70324987 20.59846034\n",
      " 12.61172878 17.51725141 17.25333765 22.2928599  13.71186304 13.9258782\n",
      " 25.17045686 21.05626372 13.47847798 15.0127928  18.01745928 12.32276884\n",
      " 11.33156745 18.95673192 12.76819708 12.70499077 15.15412376 18.50706654\n",
      " 20.25747281 11.53789461 13.50632473 24.51202456 13.87191204 21.68901686\n",
      " 19.92104516 14.15760635 19.38935324 19.05831176 20.88128934 15.56005402\n",
      " 16.82296025 13.39197116 25.39115655 21.75218728 10.67678236 21.53298258\n",
      " 18.24565307 20.80992826 15.47598877 14.72180252 13.02003677 17.38516343\n",
      " 12.98358922 11.63315284 17.07752481 13.1818043  11.78524437 21.17023908\n",
      " 22.65289508 20.25364621 16.40913383 13.67740769 14.21688642 17.83043252\n",
      " 12.90121905 16.77532732 17.59423828 16.29067286 23.19020707 11.03115323\n",
      " 11.74054612 18.30466386 10.81463164 20.10654715 12.14121387 20.75987116\n",
      " 11.53789461 16.05848269 10.68376437 22.20561617 13.21521733 20.4135156\n",
      " 21.78988581 17.74637257 17.52808633 11.99750821 10.79612346 17.55231315\n",
      " 10.83112709 17.92786066 19.63323007 13.37245667 12.3558368  12.48648459\n",
      " 17.85922112 11.32773275 12.37603959 11.79160241 20.00729775 23.57677654\n",
      " 17.294999   17.1828947  25.2764615  22.94612918 11.90454069 20.37966066\n",
      " 17.47662835 24.52822254 16.95779661 11.75537217 13.00516554 14.76650857\n",
      " 12.06372044 14.7054731  14.23858696 21.15471176 10.87231327 14.74448298\n",
      " 12.1397736  17.93454594 16.88994018 20.69850451 14.18912773 22.54527061\n",
      " 21.46918797 18.14210858]\n",
      "200\n"
     ]
    }
   ],
   "source": [
    "clf = svm.SVR(gamma='auto')\n",
    "\n",
    "clf.fit(training_inputs, training_target)\n",
    "predictions = clf.predict(testing_inputs)\n",
    "print(predictions)\n",
    "\n",
    "# There will be 200 predictions because 20% of 1000 is 200\n",
    "print(len(predictions)) "
   ]
  },
  {
   "cell_type": "markdown",
   "metadata": {},
   "source": [
    "## 12. Create model \n",
    "- Can use this model in other programs "
   ]
  },
  {
   "cell_type": "code",
   "execution_count": 27,
   "metadata": {},
   "outputs": [],
   "source": [
    "pickle.dump(clf, open('trained_sensor_model.pkl', 'wb'))"
   ]
  },
  {
   "cell_type": "code",
   "execution_count": 29,
   "metadata": {},
   "outputs": [
    {
     "data": {
      "text/plain": [
       "SVR(C=1.0, cache_size=200, coef0=0.0, degree=3, epsilon=0.1, gamma='auto',\n",
       "    kernel='rbf', max_iter=-1, shrinking=True, tol=0.001, verbose=False)"
      ]
     },
     "execution_count": 29,
     "metadata": {},
     "output_type": "execute_result"
    }
   ],
   "source": [
    "# Load the model \n",
    "clf_svm_model = pickle.load(open('trained_sensor_model.pkl', 'rb'))\n",
    "clf_svm_model"
   ]
  },
  {
   "cell_type": "markdown",
   "metadata": {},
   "source": [
    "## 13. Input own feature data and normalize it\n",
    "-  'light_avg', 'humidity_avg', 'latitude', 'longitude', 'elevation'"
   ]
  },
  {
   "cell_type": "code",
   "execution_count": 30,
   "metadata": {},
   "outputs": [
    {
     "data": {
      "text/plain": [
       "array([[ 8.40357136e-01,  3.77287947e-01,  4.88428164e+04,\n",
       "        -3.93298848e+04, -8.69278126e-02]])"
      ]
     },
     "execution_count": 30,
     "metadata": {},
     "output_type": "execute_result"
    }
   ],
   "source": [
    "light_avg = 90.\n",
    "humidity_avg = 40.\n",
    "latitude = 0.\n",
    "longitude = 100.\n",
    "elevation = 30.\n",
    "\n",
    "# Need to normalize the testing data before getting an accurate result \n",
    "# Use the same scaler factors on the new data\n",
    "scaler = preprocessing.StandardScaler()\n",
    "features_scaled = scaler.fit_transform(features)\n",
    "\n",
    "data = np.array([[light_avg, humidity_avg, latitude, longitude, elevation]])\n",
    "data_scaled = scaler.transform(data)\n",
    "data_scaled"
   ]
  },
  {
   "cell_type": "markdown",
   "metadata": {},
   "source": [
    "## 14. Run prediction "
   ]
  },
  {
   "cell_type": "code",
   "execution_count": 31,
   "metadata": {},
   "outputs": [
    {
     "name": "stdout",
     "output_type": "stream",
     "text": [
      "The predicted temp_avg:\n",
      "[18.0238676]\n"
     ]
    }
   ],
   "source": [
    "# Make a prediction against prediction features\n",
    "prediction = clf_svm_model.predict(data_scaled)\n",
    "\n",
    "print(\"The predicted temp_avg:\")\n",
    "print(prediction)"
   ]
  }
 ],
 "metadata": {
  "kernelspec": {
   "display_name": "Python 3",
   "language": "python",
   "name": "python3"
  },
  "language_info": {
   "codemirror_mode": {
    "name": "ipython",
    "version": 3
   },
   "file_extension": ".py",
   "mimetype": "text/x-python",
   "name": "python",
   "nbconvert_exporter": "python",
   "pygments_lexer": "ipython3",
   "version": "3.7.4"
  }
 },
 "nbformat": 4,
 "nbformat_minor": 4
}
